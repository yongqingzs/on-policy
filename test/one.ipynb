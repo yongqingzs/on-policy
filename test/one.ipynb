{
 "cells": [
  {
   "cell_type": "code",
   "execution_count": null,
   "metadata": {},
   "outputs": [],
   "source": [
    "import numpy as np\n",
    "\n",
    "n_rollout_threads = 1\n",
    "num_agents = 5\n",
    "dones = [False] * num_agents\n",
    "dones = np.array(dones)\n",
    "\n",
    "masks = np.ones((n_rollout_threads, num_agents), dtype=np.float32)\n",
    "masks[dones == True] = np.zeros(((dones == True).sum()), dtype=np.float32)\n",
    "print(masks)"
   ]
  }
 ],
 "metadata": {
  "kernelspec": {
   "display_name": "CXPyTorch",
   "language": "python",
   "name": "python3"
  },
  "language_info": {
   "codemirror_mode": {
    "name": "ipython",
    "version": 3
   },
   "file_extension": ".py",
   "mimetype": "text/x-python",
   "name": "python",
   "nbconvert_exporter": "python",
   "pygments_lexer": "ipython3",
   "version": "3.9.12"
  },
  "orig_nbformat": 4
 },
 "nbformat": 4,
 "nbformat_minor": 2
}
